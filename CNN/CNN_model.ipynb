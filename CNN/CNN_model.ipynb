{
 "cells": [
  {
   "cell_type": "code",
   "execution_count": 1,
   "metadata": {},
   "outputs": [
    {
     "name": "stderr",
     "output_type": "stream",
     "text": [
      "Using TensorFlow backend.\n"
     ]
    }
   ],
   "source": [
    "import tensorflow as tf\n",
    "from tensorflow.keras.models import Sequential\n",
    "from tensorflow.keras.layers import Conv2D,Dropout,Activation,Flatten,MaxPooling2D,Dense\n",
    "import keras\n",
    "import pickle\n",
    "from keras.models import Sequential\n",
    "from keras.layers.core import Dense, Dropout, Activation, Flatten\n",
    "from keras.layers import Convolution2D, ZeroPadding2D, MaxPooling2D\n",
    "from keras.layers.convolutional import Conv2D\n",
    "from keras.callbacks import EarlyStopping, ModelCheckpoint\n",
    "import matplotlib.pyplot as plt\n",
    "import matplotlib\n",
    "import time\n",
    "import numpy as np\n",
    "from contextlib import redirect_stdout\n",
    "X_train = pickle.load(open(\"X_train1.pickle\",\"rb\"))\n",
    "y_train = pickle.load(open(\"y_train1.pickle\",\"rb\"))\n",
    "X_test = pickle.load(open(\"X_test1.pickle\",\"rb\"))\n",
    "y_test = pickle.load(open(\"y_test1.pickle\",\"rb\"))\n",
    "X_train = X_train/255\n",
    "X_test = X_test/255\n",
    "y_train = keras.utils.to_categorical(y_train)\n",
    "y_test = keras.utils.to_categorical(y_test)\n",
    "BATCH_SIZE = 32"
   ]
  },
  {
   "cell_type": "code",
   "execution_count": 2,
   "metadata": {},
   "outputs": [],
   "source": [
    "nb_classes = 4\n",
    "\n",
    "# Number of epochs to train (change it accordingly)\n",
    "nb_epoch = 15  #25\n",
    "\n",
    "# Total number of convolutional filters to use\n",
    "nb_filters = 32\n",
    "# Max pooling\n",
    "nb_pool = 2\n",
    "# Size of convolution kernel\n",
    "nb_conv = 3\n",
    "def custom_model_hand():\n",
    "    '''\n",
    "    USER CODE STARTS HERE\n",
    "    '''\n",
    "    image_model = Sequential()\n",
    "    image_model = Sequential()\n",
    "    \n",
    "    \n",
    "    image_model.add(Conv2D(nb_filters, (nb_conv, nb_conv),\n",
    "                        padding='valid',\n",
    "                        input_shape=(50,50,1)))\n",
    "    convout1 = Activation('relu')\n",
    "    image_model.add(convout1)\n",
    "    image_model.add(Conv2D(nb_filters, (nb_conv, nb_conv)))\n",
    "    convout2 = Activation('relu')\n",
    "    image_model.add(convout2)\n",
    "    image_model.add(MaxPooling2D(pool_size=(nb_pool, nb_pool)))\n",
    "    image_model.add(Dropout(0.5))\n",
    "\n",
    "    image_model.add(Flatten())\n",
    "    image_model.add(Dense(128))\n",
    "    image_model.add(Activation('relu'))\n",
    "    image_model.add(Dropout(0.2))\n",
    "    image_model.add(Dense(512))\n",
    "    image_model.add(Dropout(0.2))\n",
    "    image_model.add(Activation('relu'))\n",
    "\n",
    "#     image_model.add(Dense(512))\n",
    "#     image_model.add(Activation('tanh'))\n",
    "\n",
    "    image_model.add(Dense(4))\n",
    "    image_model.add(Activation('softmax'))\n",
    "    image_model.compile(loss='categorical_crossentropy', optimizer='adam', metrics=['accuracy'])\n",
    "    #view model summary\n",
    "    image_model.summary()\n",
    "    with open('model_sumary.txt', 'w') as f:\n",
    "    \twith redirect_stdout(f):\n",
    "        \timage_model.summary()\n",
    "    return image_model\n",
    "    '''\n",
    "    USER CODE ENDS HERE\n",
    "    '''"
   ]
  },
  {
   "cell_type": "code",
   "execution_count": 3,
   "metadata": {},
   "outputs": [
    {
     "name": "stdout",
     "output_type": "stream",
     "text": [
      "create model succesfully\n",
      "WARNING:tensorflow:From D:\\Anaconda\\lib\\site-packages\\tensorflow\\python\\framework\\op_def_library.py:263: colocate_with (from tensorflow.python.framework.ops) is deprecated and will be removed in a future version.\n",
      "Instructions for updating:\n",
      "Colocations handled automatically by placer.\n",
      "WARNING:tensorflow:From D:\\Anaconda\\lib\\site-packages\\keras\\backend\\tensorflow_backend.py:3445: calling dropout (from tensorflow.python.ops.nn_ops) with keep_prob is deprecated and will be removed in a future version.\n",
      "Instructions for updating:\n",
      "Please use `rate` instead of `keep_prob`. Rate should be set to `rate = 1 - keep_prob`.\n",
      "_________________________________________________________________\n",
      "Layer (type)                 Output Shape              Param #   \n",
      "=================================================================\n",
      "conv2d_1 (Conv2D)            (None, 48, 48, 32)        320       \n",
      "_________________________________________________________________\n",
      "activation_1 (Activation)    (None, 48, 48, 32)        0         \n",
      "_________________________________________________________________\n",
      "conv2d_2 (Conv2D)            (None, 46, 46, 32)        9248      \n",
      "_________________________________________________________________\n",
      "activation_2 (Activation)    (None, 46, 46, 32)        0         \n",
      "_________________________________________________________________\n",
      "max_pooling2d_1 (MaxPooling2 (None, 23, 23, 32)        0         \n",
      "_________________________________________________________________\n",
      "dropout_1 (Dropout)          (None, 23, 23, 32)        0         \n",
      "_________________________________________________________________\n",
      "flatten_1 (Flatten)          (None, 16928)             0         \n",
      "_________________________________________________________________\n",
      "dense_1 (Dense)              (None, 128)               2166912   \n",
      "_________________________________________________________________\n",
      "activation_3 (Activation)    (None, 128)               0         \n",
      "_________________________________________________________________\n",
      "dropout_2 (Dropout)          (None, 128)               0         \n",
      "_________________________________________________________________\n",
      "dense_2 (Dense)              (None, 512)               66048     \n",
      "_________________________________________________________________\n",
      "dropout_3 (Dropout)          (None, 512)               0         \n",
      "_________________________________________________________________\n",
      "activation_4 (Activation)    (None, 512)               0         \n",
      "_________________________________________________________________\n",
      "dense_3 (Dense)              (None, 4)                 2052      \n",
      "_________________________________________________________________\n",
      "activation_5 (Activation)    (None, 4)                 0         \n",
      "=================================================================\n",
      "Total params: 2,244,580\n",
      "Trainable params: 2,244,580\n",
      "Non-trainable params: 0\n",
      "_________________________________________________________________\n",
      "WARNING:tensorflow:From D:\\Anaconda\\lib\\site-packages\\tensorflow\\python\\ops\\math_ops.py:3066: to_int32 (from tensorflow.python.ops.math_ops) is deprecated and will be removed in a future version.\n",
      "Instructions for updating:\n",
      "Use tf.cast instead.\n",
      "Train on 4500 samples, validate on 1500 samples\n",
      "Epoch 1/15\n",
      "4500/4500 [==============================] - 27s 6ms/step - loss: 0.1659 - acc: 0.9351 - val_loss: 0.0360 - val_acc: 0.9880\n",
      "Epoch 2/15\n",
      "4500/4500 [==============================] - 29s 6ms/step - loss: 0.0264 - acc: 0.9927 - val_loss: 0.0399 - val_acc: 0.9900\n",
      "Epoch 3/15\n",
      "4500/4500 [==============================] - 28s 6ms/step - loss: 0.0141 - acc: 0.9964 - val_loss: 0.0216 - val_acc: 0.9953\n",
      "Epoch 4/15\n",
      "4500/4500 [==============================] - 29s 6ms/step - loss: 0.0083 - acc: 0.9971 - val_loss: 0.0207 - val_acc: 0.9960\n",
      "Epoch 5/15\n",
      "4500/4500 [==============================] - 28s 6ms/step - loss: 0.0044 - acc: 0.9987 - val_loss: 0.0277 - val_acc: 0.9947\n",
      "Epoch 6/15\n",
      "4500/4500 [==============================] - 27s 6ms/step - loss: 0.0248 - acc: 0.9922 - val_loss: 0.0248 - val_acc: 0.9953\n",
      "Epoch 7/15\n",
      "4500/4500 [==============================] - 29s 6ms/step - loss: 0.0035 - acc: 0.9991 - val_loss: 0.0204 - val_acc: 0.9967\n",
      "Epoch 8/15\n",
      "4500/4500 [==============================] - 28s 6ms/step - loss: 0.0025 - acc: 0.9996 - val_loss: 0.0175 - val_acc: 0.9973\n",
      "Epoch 9/15\n",
      "4500/4500 [==============================] - 29s 6ms/step - loss: 0.0015 - acc: 0.9996 - val_loss: 0.0240 - val_acc: 0.9973\n",
      "Epoch 10/15\n",
      "4500/4500 [==============================] - 31s 7ms/step - loss: 6.3268e-04 - acc: 0.9998 - val_loss: 0.0250 - val_acc: 0.9973\n",
      "Epoch 11/15\n",
      "4500/4500 [==============================] - 29s 6ms/step - loss: 8.3814e-04 - acc: 0.9998 - val_loss: 0.0282 - val_acc: 0.9967\n",
      "Epoch 12/15\n",
      "4500/4500 [==============================] - 29s 6ms/step - loss: 0.0026 - acc: 0.9987 - val_loss: 0.0315 - val_acc: 0.9960\n",
      "Epoch 13/15\n",
      "4500/4500 [==============================] - 28s 6ms/step - loss: 0.0213 - acc: 0.9940 - val_loss: 0.0545 - val_acc: 0.9913\n",
      "Epoch 14/15\n",
      "4500/4500 [==============================] - 29s 6ms/step - loss: 0.0048 - acc: 0.9980 - val_loss: 0.0185 - val_acc: 0.9973\n",
      "Epoch 15/15\n",
      "4500/4500 [==============================] - 27s 6ms/step - loss: 0.0055 - acc: 0.9982 - val_loss: 0.0149 - val_acc: 0.9973\n"
     ]
    }
   ],
   "source": [
    "def train_model(model):\n",
    "    callbacks_list = [\n",
    "        EarlyStopping(monitor='val_loss',patience=10),\n",
    "        ModelCheckpoint(filepath='model_hand_gesture.h5',monitor='val_loss',save_best_only=True)\n",
    "        ]\n",
    "    history = model.fit(X_train,y_train,batch_size=BATCH_SIZE, epochs=15,verbose=1, \n",
    "                        validation_split=0.25,callbacks = callbacks_list)\n",
    "    return history\n",
    "def make_model(file):\n",
    "    print(\"==================================================\")\n",
    "\n",
    "    print(\"Creating Model At: \",file)\n",
    "    start_time = time.time()\n",
    "    model = custom_model_hand()\n",
    "\n",
    "    json_model = model.to_json()\n",
    "\n",
    "    with open(file, \"w\") as json_file:\n",
    "        json_file.write(json_model)\n",
    "\n",
    "    end_time = time.time()\n",
    "    total_time = end_time-start_time\n",
    "    print(\"Model Created: \",total_time, \" seconds\")\n",
    "\n",
    "    print(\"==================================================\")\n",
    "\n",
    "\n",
    "if __name__ == \"__main__\":\n",
    "    print(\"create model succesfully\")\n",
    "    model = custom_model_hand()\n",
    "    history = train_model(model)"
   ]
  },
  {
   "cell_type": "code",
   "execution_count": 4,
   "metadata": {},
   "outputs": [
    {
     "name": "stdout",
     "output_type": "stream",
     "text": [
      "87/87 [==============================] - 0s 1ms/step\n",
      "accuracy = 100.0%.\n"
     ]
    }
   ],
   "source": [
    "predict = model.predict_classes(X_test)\n",
    "\n",
    "predict = keras.utils.to_categorical(predict)\n",
    "\n",
    "val_los,val_acc = model.evaluate(X_test,y_test)\n",
    "\n",
    "print(\"accuracy = \" +  str(val_acc * 100) + \"%.\")"
   ]
  },
  {
   "cell_type": "code",
   "execution_count": 7,
   "metadata": {},
   "outputs": [
    {
     "data": {
      "image/png": "[encoded data removed]",
      "text/plain": [
       "<Figure size 432x288 with 1 Axes>"
      ]
     },
     "metadata": {
      "needs_background": "light"
     },
     "output_type": "display_data"
    },
    {
     "data": {
      "image/png": "[encoded data removed]",
      "text/plain": [
       "<Figure size 432x288 with 1 Axes>"
      ]
     },
     "metadata": {
      "needs_background": "light"
     },
     "output_type": "display_data"
    }
   ],
   "source": [
    "#plot\n",
    "plt.plot(history.history['acc'])\n",
    "plt.plot(history.history['val_acc'])\n",
    "plt.title('model accuracy')\n",
    "plt.ylabel('accuracy')\n",
    "plt.xlabel('epoch')\n",
    "plt.legend(['train', 'validation'], loc='upper left')\n",
    "plt.show()\n",
    "# summarize history for loss\n",
    "plt.plot(history.history['loss'])\n",
    "plt.plot(history.history['val_loss'])\n",
    "plt.title('model loss')\n",
    "plt.ylabel('loss')\n",
    "plt.xlabel('epoch')\n",
    "plt.legend(['train', 'test'], loc='upper left')\n",
    "plt.show()"
   ]
  },
  {
   "cell_type": "code",
   "execution_count": null,
   "metadata": {},
   "outputs": [],
   "source": []
  }
 ],
 "metadata": {
  "kernelspec": {
   "display_name": "Python 3",
   "language": "python",
   "name": "python3"
  },
  "language_info": {
   "codemirror_mode": {
    "name": "ipython",
    "version": 3
   },
   "file_extension": ".py",
   "mimetype": "text/x-python",
   "name": "python",
   "nbconvert_exporter": "python",
   "pygments_lexer": "ipython3",
   "version": "3.7.3"
  }
 },
 "nbformat": 4,
 "nbformat_minor": 2
}
